{
 "cells": [
  {
   "cell_type": "code",
   "execution_count": 1,
   "id": "modified-league",
   "metadata": {},
   "outputs": [],
   "source": [
    "import string\n",
    "import random\n",
    "import re\n",
    "import numpy as np\n",
    "\n",
    "from collections import Counter\n",
    "\n",
    "from nltk import everygrams"
   ]
  },
  {
   "cell_type": "code",
   "execution_count": 2,
   "id": "ceramic-diesel",
   "metadata": {},
   "outputs": [],
   "source": [
    "with open('data/WarAndPeace.txt') as f:\n",
    "    text = f.read()"
   ]
  },
  {
   "cell_type": "code",
   "execution_count": 3,
   "id": "right-hometown",
   "metadata": {},
   "outputs": [],
   "source": [
    "rus_text = re.compile(r'[^а-я ]+')\n",
    "spaces = re.compile(r'\\s+')"
   ]
  },
  {
   "cell_type": "code",
   "execution_count": 4,
   "id": "bright-alert",
   "metadata": {},
   "outputs": [],
   "source": [
    "def preprocess_text(text):\n",
    "    return spaces.subn(' ', rus_text.subn('', text.lower() + '   ')[0])[0]"
   ]
  },
  {
   "cell_type": "code",
   "execution_count": 5,
   "id": "scheduled-astrology",
   "metadata": {},
   "outputs": [],
   "source": [
    "text = preprocess_text(text)"
   ]
  },
  {
   "cell_type": "markdown",
   "id": "australian-regulation",
   "metadata": {},
   "source": [
    "## 1\n",
    "\n",
    "Реализуйте базовый частотный метод по Шерлоку Холмсу:\n",
    "\n",
    "подсчитайте частоты букв по корпусам (пунктуацию и капитализацию можно просто опустить, а вот пробелы лучше оставить);\n",
    "\n",
    "возьмите какие-нибудь тестовые тексты (нужно взять по меньшей мере 2-3 предложения, иначе вряд ли сработает), зашифруйте их посредством случайной перестановки символов;\n",
    "\n",
    "расшифруйте их таким частотным методом.\n"
   ]
  },
  {
   "cell_type": "code",
   "execution_count": 6,
   "id": "pressed-matrix",
   "metadata": {},
   "outputs": [],
   "source": [
    "counter = Counter(text)"
   ]
  },
  {
   "cell_type": "code",
   "execution_count": 7,
   "id": "military-platinum",
   "metadata": {},
   "outputs": [
    {
     "data": {
      "text/plain": [
       "33"
      ]
     },
     "execution_count": 7,
     "metadata": {},
     "output_type": "execute_result"
    }
   ],
   "source": [
    "len(counter)"
   ]
  },
  {
   "cell_type": "code",
   "execution_count": 8,
   "id": "painted-origin",
   "metadata": {},
   "outputs": [],
   "source": [
    "def accuracy(decoded_text, original_text):\n",
    "    correct_count = 0\n",
    "    for dec_char, target_char in zip(decoded_text, original_text):\n",
    "        correct_count += (dec_char == target_char)\n",
    "    return correct_count / len(decoded_text)"
   ]
  },
  {
   "cell_type": "code",
   "execution_count": 9,
   "id": "laden-bargain",
   "metadata": {},
   "outputs": [],
   "source": [
    "alphabet = sorted(counter.keys())"
   ]
  },
  {
   "cell_type": "code",
   "execution_count": 10,
   "id": "useful-farming",
   "metadata": {},
   "outputs": [],
   "source": [
    "permutation = ''.join(np.random.permutation(alphabet))"
   ]
  },
  {
   "cell_type": "code",
   "execution_count": 11,
   "id": "searching-africa",
   "metadata": {},
   "outputs": [],
   "source": [
    "encode_mapping = dict(zip(alphabet, permutation))"
   ]
  },
  {
   "cell_type": "code",
   "execution_count": 12,
   "id": "aging-things",
   "metadata": {},
   "outputs": [],
   "source": [
    "def encode_text(text, encode_mapping):\n",
    "    return ''.join([encode_mapping[char] for char in text])"
   ]
  },
  {
   "cell_type": "code",
   "execution_count": 13,
   "id": "analyzed-pierce",
   "metadata": {},
   "outputs": [],
   "source": [
    "test_text = \"Старик! я слышал много раз, Что ты меня от смерти спас — Зачем?.. Угрюм и одинок, Грозой оторванный листок, Я вырос в сумрачных стенах Душой дитя, судьбой монах. Я никому не мог сказать Священных слов „отец“ и „мать“. Конечно, ты хотел, старик, Чтоб я в обители отвык От этих сладостных имен,— Напрасно: звук их был рожден Со мной. Я видел у других Отчизну, дом, друзей, родных, А у себя не находил Не только милых душ — могил! Тогда, пустых не тратя слез, В душе я клятву произнес: Хотя на миг когда-нибудь Мою пылающую грудь Прижать с тоской к груди другой, Хоть незнакомой, но родной. Увы! теперь мечтанья те Погибли в полной красоте, И я как жил, в земле чужой Умру рабом и сиротой.\""
   ]
  },
  {
   "cell_type": "code",
   "execution_count": 14,
   "id": "quality-mortgage",
   "metadata": {},
   "outputs": [],
   "source": [
    "test_text = preprocess_text(test_text)\n",
    "encoded_text = encode_text(test_text, encode_mapping)"
   ]
  },
  {
   "cell_type": "code",
   "execution_count": 15,
   "id": "accessible-litigation",
   "metadata": {},
   "outputs": [],
   "source": [
    "test_freq = Counter(encoded_text)"
   ]
  },
  {
   "cell_type": "code",
   "execution_count": 16,
   "id": "understood-barrel",
   "metadata": {},
   "outputs": [],
   "source": [
    "def get_decode_mapping(train_freq, test_freq):\n",
    "    mapping = {}\n",
    "    for (char1, _), (char2, _) in zip(train_freq.most_common(), test_freq.most_common()):\n",
    "        mapping[char2] = char1\n",
    "    return mapping"
   ]
  },
  {
   "cell_type": "code",
   "execution_count": 17,
   "id": "perceived-array",
   "metadata": {},
   "outputs": [],
   "source": [
    "decode_mapping = get_decode_mapping(counter, test_freq)"
   ]
  },
  {
   "cell_type": "code",
   "execution_count": 18,
   "id": "painful-suffering",
   "metadata": {},
   "outputs": [],
   "source": [
    "def decode_text(text, decode_mapping):\n",
    "    return ''.join(decode_mapping[char] for char in text)"
   ]
  },
  {
   "cell_type": "code",
   "execution_count": 19,
   "id": "approved-party",
   "metadata": {},
   "outputs": [],
   "source": [
    "decoded_text = decode_text(encoded_text, decode_mapping)"
   ]
  },
  {
   "cell_type": "code",
   "execution_count": 20,
   "id": "graduate-police",
   "metadata": {},
   "outputs": [
    {
     "data": {
      "text/plain": [
       "0.39164086687306504"
      ]
     },
     "execution_count": 20,
     "metadata": {},
     "output_type": "execute_result"
    }
   ],
   "source": [
    "accuracy(decoded_text, test_text)"
   ]
  },
  {
   "cell_type": "markdown",
   "id": "structured-shower",
   "metadata": {},
   "source": [
    "## 2\n",
    "\n",
    "Вряд ли в результате получилась такая уж хорошая расшифровка, разве что если вы брали в качестве тестовых данных целые рассказы. Но и Шерлок Холмс был не так уж прост: после буквы E, которая действительно выделяется частотой, дальше он анализировал уже конкретные слова и пытался угадать, какими они могли бы быть. Я не знаю, как запрограммировать такой интуитивный анализ, так что давайте просто сделаем следующий логический шаг:\n",
    "\n",
    "подсчитайте частоты биграмм (т.е. пар последовательных букв) по корпусам;\n",
    "\n",
    "проведите тестирование аналогично п.1, но при помощи биграмм."
   ]
  },
  {
   "cell_type": "code",
   "execution_count": 21,
   "id": "fantastic-reproduction",
   "metadata": {},
   "outputs": [],
   "source": [
    "def get_bigram_freq(text):\n",
    "    return Counter([''.join(bigram) for bigram in everygrams(text, max_len=2, min_len=2)])"
   ]
  },
  {
   "cell_type": "code",
   "execution_count": 22,
   "id": "distinguished-anatomy",
   "metadata": {},
   "outputs": [],
   "source": [
    "train_bigram_freq = get_bigram_freq(text)\n",
    "test_bigram_freq = get_bigram_freq(encoded_text)"
   ]
  },
  {
   "cell_type": "code",
   "execution_count": 23,
   "id": "ranging-simon",
   "metadata": {},
   "outputs": [],
   "source": [
    "decode_mapping = get_decode_mapping(train_bigram_freq, test_bigram_freq)"
   ]
  },
  {
   "cell_type": "code",
   "execution_count": 24,
   "id": "otherwise-novelty",
   "metadata": {},
   "outputs": [],
   "source": [
    "def decode_text(text, decode_mapping):\n",
    "    dec_text = []\n",
    "    for i in range(0, len(text) - 1, 2):\n",
    "        dec_text.append(decode_mapping[text[i: i + 2]])\n",
    "    return \"\".join(dec_text)"
   ]
  },
  {
   "cell_type": "code",
   "execution_count": 25,
   "id": "excessive-roulette",
   "metadata": {},
   "outputs": [],
   "source": [
    "decoded_text = decode_text(encoded_text, decode_mapping)"
   ]
  },
  {
   "cell_type": "code",
   "execution_count": 26,
   "id": "adopted-portfolio",
   "metadata": {},
   "outputs": [
    {
     "data": {
      "text/plain": [
       "0.08513931888544891"
      ]
     },
     "execution_count": 26,
     "metadata": {},
     "output_type": "execute_result"
    }
   ],
   "source": [
    "accuracy(decoded_text, test_text)"
   ]
  },
  {
   "cell_type": "code",
   "execution_count": 27,
   "id": "outer-chocolate",
   "metadata": {},
   "outputs": [
    {
     "data": {
      "text/plain": [
       "'л с  ггоо ойейалетй некадотьнек е оти  со у ылстмуатскчттинив ча б ире отов ое п ия удт оса одл еггоноляакноо ськаю воо раро в рсва ревео прик пе рудего н гваеркое й о всесзао ихизнявоо сим  сгл бе  мов дкою нек да сазо ан чтоть агоно и яраод иннты имику ео имтрл ос вулот нымкаеенеутры б вийалпоятото неет пгоношаазнинаенем в слсжеертрорасевжаонелос влеерошр  нь ротареалко квыугненуой в рлылаемаля ивлебрл во нь ще ми лисононаы ь и ичпаая тпоарколотаве нленуны дивт  эпровлапез имопзьтеен з т чд зао  как да тов прстасог пда совкожеедва п ннепосе пнин  кывавову тьт га кь иеемекстм иежн полкамера бгооледьнриносктикиилаш пнивиерках орстахпоя а '"
      ]
     },
     "execution_count": 27,
     "metadata": {},
     "output_type": "execute_result"
    }
   ],
   "source": [
    "decoded_text"
   ]
  },
  {
   "cell_type": "markdown",
   "id": "trying-tourism",
   "metadata": {},
   "source": [
    "# 3\n",
    "\n",
    "Но и это ещё не всё: биграммы скорее всего тоже далеко не всегда работают. Основная часть задания — в том, как можно их улучшить:\n",
    "\n",
    "предложите метод обучения перестановки символов в этом задании, основанный на MCMC-сэмплировании, но по-прежнему работающий на основе статистики биграмм;\n",
    "\n",
    "реализуйте и протестируйте его, убедитесь, что результаты улучшились.\n"
   ]
  },
  {
   "cell_type": "code",
   "execution_count": 28,
   "id": "floral-karma",
   "metadata": {},
   "outputs": [],
   "source": [
    "from copy import copy\n",
    "from tqdm import tqdm"
   ]
  },
  {
   "cell_type": "code",
   "execution_count": 39,
   "id": "female-webster",
   "metadata": {},
   "outputs": [],
   "source": [
    "def get_freqs_smooth(text, n_gram=2):\n",
    "    freqs = dict()\n",
    "    vocab_len = len(set(text))**n_gram\n",
    "    if n_gram > 1:\n",
    "        text = [''.join(ngram) for ngram in everygrams(text, min_len=n_gram, max_len=n_gram)]\n",
    "    for key, count in Counter(text).items():\n",
    "        freqs[key] = (count + 1) / (len(text) + vocab_len)\n",
    "    return freqs"
   ]
  },
  {
   "cell_type": "code",
   "execution_count": 59,
   "id": "fundamental-southeast",
   "metadata": {},
   "outputs": [],
   "source": [
    "class mcmc_decoder:\n",
    "    def __init__(self, freqs, alphabet, n_iter=20000, verbose=5000):\n",
    "        self.n_iter = n_iter\n",
    "        self.verbose = verbose\n",
    "        self.freqs = freqs\n",
    "        self.alphabet = alphabet\n",
    "        \n",
    "        self.nan_replacement = 1e-10\n",
    "        \n",
    "    def score(self, text):\n",
    "        bigram_counts = get_bigram_freq(\"\".join(text))\n",
    "        return np.sum([count * np.log(self.freqs.get(bigram, self.nan_replacement)) \n",
    "                       for bigram, count in bigram_counts.items()])\n",
    "             \n",
    "    def random_swap(self, text):\n",
    "        chars = np.random.choice(self.alphabet, 2, replace=False)\n",
    "        for i in range(len(text)):\n",
    "            if text[i] == chars[0]:\n",
    "                text[i] = chars[1]\n",
    "            elif text[i] == chars[1]:\n",
    "                text[i] = chars[0]\n",
    "        return text\n",
    "        \n",
    "    def decode(self, text):\n",
    "        best_decoded_text = list(text)\n",
    "        cur_score = self.score(best_decoded_text) \n",
    "        best_score = cur_score\n",
    "        for i in tqdm(range(self.n_iter)):\n",
    "            new_text = self.random_swap(copy(text))\n",
    "            new_score = self.score(new_text)\n",
    "            if new_score > cur_score or np.random.rand() < np.exp(new_score - cur_score):\n",
    "                text = new_text\n",
    "                cur_score = new_score\n",
    "                if cur_score > best_score:\n",
    "                    best_score = cur_score\n",
    "                    best_decoded_text = text\n",
    "                    \n",
    "            if i % self.verbose == 0:\n",
    "                print(''.join(best_decoded_text))\n",
    "                print('-' * 80)\n",
    "                \n",
    "        return ''.join(best_decoded_text)"
   ]
  },
  {
   "cell_type": "code",
   "execution_count": 60,
   "id": "useful-rough",
   "metadata": {},
   "outputs": [],
   "source": [
    "train_bigram_freq = get_bigram_freq(text)"
   ]
  },
  {
   "cell_type": "code",
   "execution_count": 61,
   "id": "progressive-eligibility",
   "metadata": {},
   "outputs": [
    {
     "name": "stderr",
     "output_type": "stream",
     "text": [
      "  1%|          | 200/20000 [00:00<00:29, 676.16it/s]"
     ]
    },
    {
     "name": "stdout",
     "output_type": "stream",
     "text": [
      "йъусбжыщыйзвнузыиодпдысуюы ъдыъвыигощыдъыйигсъбыйхуйыюу гиыкпсеиыбыдабоджыпсдюдьыдъдсцуоовьызбйъджыщыцвсдйыцыйкису овтыйъгоутыакндьыабъщыйкачэдьыидоутыщыобждикыогыидпыйжуюуъчыйцщмгоовтыйздцыдъгшыбыиуъчыждог одыъвытдъгзыйъусбжы ъдэыщыцыдэбъгзбыдъцвжыдъыфъбтыйзуадйъовтыбигоыоухсуйодыюцкжыбтыэвзысдлагоыйдыиодьыщыцбагзыкыаскпбтыдъ бюокыадиыаскюгьысдаовтыуыкыйгэщыогыоутдабзыогыъдзчждыибзвтыакныидпбзыъдпауыхкйъвтыогыъсуъщыйзгюыцыакнгыщыжзщъцкыхсдбюогйытдъщыоуыибпыждпауобэкачыидеыхвзуемкеыпскачыхсблуъчыйыъдйждьыжыпскабыаскпдьытдъчыогюоуждидьыодысдаодьыкцвыъгхгсчыиг ъуочщыъгыхдпбэзбыцыхдзодьыжсуйдъгыбыщыжужылбзыцыюгизгы клдьыкискысуэдиыбыйбсдъдьы\n",
      "--------------------------------------------------------------------------------\n"
     ]
    },
    {
     "name": "stderr",
     "output_type": "stream",
     "text": [
      " 26%|██▌       | 5176/20000 [00:07<00:21, 697.03it/s]"
     ]
    },
    {
     "name": "stdout",
     "output_type": "stream",
     "text": [
      "дтарик я длычал вного раз сто ты веня от дверти дфад засев угрюв и опинок грозой оторманный лидток я мырод м дуврасных дтенах пучой питя дупьбой вонах я никову не вог дказать дмяженных длом отец и вать конесно ты хотел дтарик стоб я м обители отмык от этих длаподтных ивен нафрадно змук их был рошпен до вной я мипел у пругих отсизну пов прузей ропных а у дебя не нахопил не только вилых пуч вогил тогпа фудтых не тратя длез м пуче я клятму фроизнед хотя на виг когпанибупь вою фылаюжую групь фришать д тодкой к групи пругой хоть незнаковой но ропной умы теферь вестанья те фогибли м фолной крадоте и я как шил м зевле сушой увру рабов и диротой \n",
      "--------------------------------------------------------------------------------\n"
     ]
    },
    {
     "name": "stderr",
     "output_type": "stream",
     "text": [
      " 51%|█████     | 10170/20000 [00:14<00:13, 711.76it/s]"
     ]
    },
    {
     "name": "stdout",
     "output_type": "stream",
     "text": [
      "старик я слышал вного раз что ты веня от сверти спас зачев угрюв и одинок грозой оторманный листок я мырос м суврачных стенах душой дитя судьбой вонах я никову не вог сказать смященных слом отеж и вать конечно ты хотел старик чтоб я м обители отмык от этих сладостных ивен напрасно змук их был роцден со вной я мидел у других отчизну дов друзей родных а у себя не находил не только вилых душ вогил тогда пустых не тратя слез м душе я клятму произнес хотя на виг когданибудь вою пылающую грудь прицать с тоской к груди другой хоть незнаковой но родной умы теперь вечтанья те погибли м полной красоте и я как цил м зевле чуцой увру рабов и сиротой \n",
      "--------------------------------------------------------------------------------\n"
     ]
    },
    {
     "name": "stderr",
     "output_type": "stream",
     "text": [
      " 76%|███████▌  | 15157/20000 [00:22<00:06, 700.97it/s]"
     ]
    },
    {
     "name": "stdout",
     "output_type": "stream",
     "text": [
      "старик я слышал вного раз что ты веня от сверти спас зачев угрюв и одинок грозой оторманный листок я мырос м суврачных стенах душой дитя судьбой вонах я никову не вог сказать смященных слом отец и вать конечно ты хотел старик чтоб я м обители отмык от этих сладостных ивен напрасно змук их был рожден со вной я мидел у других отчизну дов друзей родных а у себя не находил не только вилых душ вогил тогда пустых не тратя слез м душе я клятму произнес хотя на виг когданибудь вою пылающую грудь прижать с тоской к груди другой хоть незнаковой но родной умы теперь вечтанья те погибли м полной красоте и я как жил м зевле чужой увру рабов и сиротой \n",
      "--------------------------------------------------------------------------------\n"
     ]
    },
    {
     "name": "stderr",
     "output_type": "stream",
     "text": [
      "100%|██████████| 20000/20000 [00:28<00:00, 691.05it/s]\n"
     ]
    }
   ],
   "source": [
    "mcmc = mcmc_decoder(train_bigram_freq, list(alphabet), n_iter=20000, verbose=5000)\n",
    "\n",
    "decoded_text = mcmc.decode(list(encoded_text))"
   ]
  },
  {
   "cell_type": "code",
   "execution_count": 62,
   "id": "engaged-neutral",
   "metadata": {},
   "outputs": [
    {
     "data": {
      "text/plain": [
       "0.9442724458204335"
      ]
     },
     "execution_count": 62,
     "metadata": {},
     "output_type": "execute_result"
    }
   ],
   "source": [
    "accuracy(decoded_text, test_text)"
   ]
  },
  {
   "cell_type": "markdown",
   "id": "approved-leonard",
   "metadata": {},
   "source": [
    "# 4\n",
    "\n",
    "Расшифруйте сообщение:"
   ]
  },
  {
   "cell_type": "code",
   "execution_count": 68,
   "id": "active-butter",
   "metadata": {},
   "outputs": [],
   "source": [
    "def decode_text(text, decode_mapping):\n",
    "    return ''.join(decode_mapping[char] for char in text)"
   ]
  },
  {
   "cell_type": "code",
   "execution_count": 69,
   "id": "heard-possible",
   "metadata": {},
   "outputs": [],
   "source": [
    "final_text = \"←⇠⇒↟↹↷⇊↹↷↟↤↟↨←↹↝⇛⇯↳⇴⇒⇈↝⇊↾↹↟⇒↟↹⇷⇛⇞↨↟↹↝⇛⇯↳⇴⇒⇈↝⇊↾↹↨←⇌⇠↨↹⇙↹⇸↨⇛↙⇛↹⇠⇛⇛↲⇆←↝↟↞↹⇌⇛↨⇛⇯⇊↾↹⇒←↙⇌⇛↹⇷⇯⇛⇞↟↨⇴↨⇈↹⇠⇌⇛⇯←←↹↷⇠←↙⇛↹↷⇊↹↷⇠←↹⇠↤←⇒⇴⇒↟↹⇷⇯⇴↷↟⇒⇈↝⇛↹↟↹⇷⇛⇒⇙⇞↟↨←↹↳⇴⇌⇠↟↳⇴⇒⇈↝⇊↾↹↲⇴⇒⇒↹⇰⇴↹⇷⇛⇠⇒←↤↝←←↹⇞←↨↷←⇯↨⇛←↹⇰⇴↤⇴↝↟←↹⇌⇙⇯⇠⇴↹↘⇛↨↞↹⇌⇛↝←⇞↝⇛↹↞↹↝↟⇞←↙⇛↹↝←↹⇛↲←⇆⇴⇏\""
   ]
  },
  {
   "cell_type": "code",
   "execution_count": 71,
   "id": "explicit-money",
   "metadata": {},
   "outputs": [],
   "source": [
    "unigram_freqs = Counter(final_text)\n",
    "decode_mapping = get_decode_mapping(counter, unigram_freqs)\n",
    "\n",
    "decoded_text = decode_text(final_text, decode_mapping)"
   ]
  },
  {
   "cell_type": "code",
   "execution_count": 72,
   "id": "polished-morrison",
   "metadata": {},
   "outputs": [
    {
     "data": {
      "text/plain": [
       "'олие рд реяесо навгтиундь еие памсе навгтиундь соклс з шсаыа лаабйонеч касавдь иоыка пваместсу лкавоо рлоыа рд рло ляоитие пвтреиуна е паизмесо гтклегтиундь бтии жт палиояноо мосровсао жтятнео кзвлт хасч каномна ч немоыа но абойтю'"
      ]
     },
     "execution_count": 72,
     "metadata": {},
     "output_type": "execute_result"
    }
   ],
   "source": [
    "decoded_text"
   ]
  },
  {
   "cell_type": "code",
   "execution_count": 74,
   "id": "blond-proxy",
   "metadata": {
    "scrolled": true
   },
   "outputs": [
    {
     "name": "stderr",
     "output_type": "stream",
     "text": [
      "  2%|▏         | 453/20000 [00:00<00:12, 1518.70it/s]"
     ]
    },
    {
     "name": "stdout",
     "output_type": "stream",
     "text": [
      "олие рд реяесо навгтиундь еие памсе навгтиундь соклс з шсаыа лаабйонеч касавдь иоыка пваместсу лкавоо рлоыа рд рло ляоитие пвтреиуна е паизмесо гтклегтиундь бтии жт палиояноо мосровсао жтятнео кзвлт хасч каномна ч немоыа но абойтю\n",
      "--------------------------------------------------------------------------------\n"
     ]
    },
    {
     "name": "stderr",
     "output_type": "stream",
     "text": [
      " 27%|██▋       | 5398/20000 [00:03<00:09, 1588.86it/s]"
     ]
    },
    {
     "name": "stdout",
     "output_type": "stream",
     "text": [
      "если вы вимите норжальный или подти норжальный текст у этого соочшения который легко продитать скорее всего вы все смелали правильно и полудите жаксижальный чалл за послемнее детвертое замание курса ботя конедно я нидего не очешах\n",
      "--------------------------------------------------------------------------------\n"
     ]
    },
    {
     "name": "stderr",
     "output_type": "stream",
     "text": [
      " 52%|█████▏    | 10324/20000 [00:06<00:06, 1594.60it/s]"
     ]
    },
    {
     "name": "stdout",
     "output_type": "stream",
     "text": [
      "если вы вимите норжальный или подти норжальный текст у этого соочшения который легко продитать скорее всего вы все смелали правильно и полудите жаксижальный чалл за послемнее детвертое замание курса ботя конедно я нидего не очешах\n",
      "--------------------------------------------------------------------------------\n"
     ]
    },
    {
     "name": "stderr",
     "output_type": "stream",
     "text": [
      " 77%|███████▋  | 15430/20000 [00:09<00:02, 1589.93it/s]"
     ]
    },
    {
     "name": "stdout",
     "output_type": "stream",
     "text": [
      "если вы вимите норжальный или подти норжальный текст у этого соочшения который легко продитать скорее всего вы все смелали правильно и полудите жаксижальный чалл за послемнее детвертое замание курса ботя конедно я нидего не очешах\n",
      "--------------------------------------------------------------------------------\n"
     ]
    },
    {
     "name": "stderr",
     "output_type": "stream",
     "text": [
      "100%|██████████| 20000/20000 [00:12<00:00, 1579.24it/s]\n"
     ]
    },
    {
     "data": {
      "text/plain": [
       "'если вы вимите норжальный или подти норжальный текст у этого соочшения который легко продитать скорее всего вы все смелали правильно и полудите жаксижальный чалл за послемнее детвертое замание курса ботя конедно я нидего не очешах'"
      ]
     },
     "execution_count": 74,
     "metadata": {},
     "output_type": "execute_result"
    }
   ],
   "source": [
    "mcmc.decode(list(decoded_text))"
   ]
  },
  {
   "cell_type": "code",
   "execution_count": null,
   "id": "protective-sequence",
   "metadata": {},
   "outputs": [],
   "source": []
  }
 ],
 "metadata": {
  "kernelspec": {
   "display_name": "Python 3",
   "language": "python",
   "name": "python3"
  },
  "language_info": {
   "codemirror_mode": {
    "name": "ipython",
    "version": 3
   },
   "file_extension": ".py",
   "mimetype": "text/x-python",
   "name": "python",
   "nbconvert_exporter": "python",
   "pygments_lexer": "ipython3",
   "version": "3.8.3"
  }
 },
 "nbformat": 4,
 "nbformat_minor": 5
}
