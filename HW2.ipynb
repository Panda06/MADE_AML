{
 "cells": [
  {
   "cell_type": "code",
   "execution_count": 1,
   "id": "hydraulic-orbit",
   "metadata": {},
   "outputs": [],
   "source": [
    "import pickle\n",
    "import warnings\n",
    "warnings.filterwarnings(\"ignore\")\n",
    "\n",
    "import matplotlib.pyplot as plt\n",
    "import numpy as np\n",
    "import pandas as pd\n",
    "\n",
    "from collections import defaultdict\n",
    "from datetime import datetime\n",
    "\n",
    "from tqdm import tqdm\n",
    "from scipy.stats import spearmanr, kendalltau\n",
    "from sklearn.linear_model import LogisticRegression, LinearRegression\n",
    "from sklearn.preprocessing import OneHotEncoder"
   ]
  },
  {
   "cell_type": "markdown",
   "id": "consolidated-membrane",
   "metadata": {},
   "source": [
    "Прочитайте и проанализируйте данные, выберите турниры, в которых есть данные о составах команд и повопросных результатах (поле mask в results.pkl). Для унификации предлагаю:\n",
    "\n",
    "    взять в тренировочный набор турниры с dateStart из 2019 года; \n",
    "\n",
    "    в тестовый — турниры с dateStart из 2020 года."
   ]
  },
  {
   "cell_type": "code",
   "execution_count": 2,
   "id": "stable-bosnia",
   "metadata": {},
   "outputs": [],
   "source": [
    "def get_data(path):\n",
    "    with open(path, 'rb') as f:\n",
    "        data = pickle.load(f)\n",
    "        return data"
   ]
  },
  {
   "cell_type": "code",
   "execution_count": 3,
   "id": "twenty-edwards",
   "metadata": {},
   "outputs": [],
   "source": [
    "results = get_data('data/results.pkl')\n",
    "players = get_data('data/players.pkl')\n",
    "tournaments = get_data('data/tournaments.pkl')"
   ]
  },
  {
   "cell_type": "code",
   "execution_count": 4,
   "id": "seven-original",
   "metadata": {},
   "outputs": [],
   "source": [
    "def clear_data(results, tournaments):\n",
    "    masked_results = defaultdict(list)\n",
    "    for id_, teams in results.items():\n",
    "        tournaments[id_]['year'] = datetime.fromisoformat(tournaments[id_]['dateStart']).year\n",
    "        if  tournaments[id_]['year'] in {2019, 2020}:\n",
    "            for team in teams:\n",
    "                if team.get('mask', None) is not None and len(team.get('teamMembers', [])) > 0:\n",
    "                    masked_results[id_].append(team)\n",
    "    return masked_results, {id_: tournaments[id_] for id_ in masked_results}"
   ]
  },
  {
   "cell_type": "code",
   "execution_count": 5,
   "id": "designed-girlfriend",
   "metadata": {},
   "outputs": [
    {
     "data": {
      "text/plain": [
       "(848, 848)"
      ]
     },
     "execution_count": 5,
     "metadata": {},
     "output_type": "execute_result"
    }
   ],
   "source": [
    "results, tournaments = clear_data(results, tournaments)\n",
    "len(results), len(tournaments)"
   ]
  },
  {
   "cell_type": "code",
   "execution_count": 6,
   "id": "secure-consortium",
   "metadata": {},
   "outputs": [],
   "source": [
    "train_ids = {key for key, value in tournaments.items() if value['year'] == 2019}\n",
    "test_ids = {key for key, value in tournaments.items() if value['year'] == 2020}"
   ]
  },
  {
   "cell_type": "code",
   "execution_count": 7,
   "id": "constant-frost",
   "metadata": {},
   "outputs": [
    {
     "data": {
      "text/plain": [
       "(675, 173)"
      ]
     },
     "execution_count": 7,
     "metadata": {},
     "output_type": "execute_result"
    }
   ],
   "source": [
    "len(train_ids), len(test_ids)"
   ]
  },
  {
   "cell_type": "code",
   "execution_count": 8,
   "id": "reduced-brave",
   "metadata": {
    "scrolled": true
   },
   "outputs": [],
   "source": [
    "results_train = {idx: results[idx] for idx in train_ids}\n",
    "results_test = {idx: results[idx] for idx in test_ids}"
   ]
  },
  {
   "cell_type": "code",
   "execution_count": 9,
   "id": "fiscal-music",
   "metadata": {},
   "outputs": [],
   "source": [
    "def get_dataframe(results, tournaments):\n",
    "    data = defaultdict(list)\n",
    "\n",
    "    for tournament_id, tournament in results.items():\n",
    "        for result in tournament:\n",
    "            if result.get('mask', None) is None:\n",
    "                continue\n",
    "            count_qiestions = sum(c for c in tournaments[tournament_id]['questionQty'].values())\n",
    "            mask = result['mask'].replace('X', '').replace('?', '')\n",
    "            if len(mask) > 60 or (len(mask) != count_qiestions and len(result['mask']) != count_qiestions):\n",
    "                continue\n",
    "            for question_id, m in enumerate(mask):\n",
    "                for member in result['teamMembers']:\n",
    "                    data['question_id'].append(question_id)\n",
    "                    data['tournament_id'].append(tournament_id)\n",
    "                    data['team_id'].append(result['team']['id'])\n",
    "                    data['member_id'].append(member['player']['id'])\n",
    "                    data['team_pos'].append(result['position'])\n",
    "                    data['result'].append(int(m))\n",
    "\n",
    "    return pd.DataFrame.from_dict(data)"
   ]
  },
  {
   "cell_type": "code",
   "execution_count": 10,
   "id": "diagnostic-malawi",
   "metadata": {},
   "outputs": [],
   "source": [
    "df_train = get_dataframe(results_train, tournaments)\n",
    "df_test = get_dataframe(results_test, tournaments)"
   ]
  },
  {
   "cell_type": "code",
   "execution_count": 11,
   "id": "continent-uruguay",
   "metadata": {},
   "outputs": [],
   "source": [
    "df_train['tour_ques_id'] = df_train[['tournament_id', 'question_id']].apply(lambda x: '_'.join(map(str, x)), axis=1)\n",
    "df_test['tour_ques_id'] = df_test[['tournament_id', 'question_id']].apply(lambda x: '_'.join(map(str, x)), axis=1)"
   ]
  },
  {
   "cell_type": "code",
   "execution_count": 12,
   "id": "limited-february",
   "metadata": {},
   "outputs": [
    {
     "data": {
      "text/html": [
       "<div>\n",
       "<style scoped>\n",
       "    .dataframe tbody tr th:only-of-type {\n",
       "        vertical-align: middle;\n",
       "    }\n",
       "\n",
       "    .dataframe tbody tr th {\n",
       "        vertical-align: top;\n",
       "    }\n",
       "\n",
       "    .dataframe thead th {\n",
       "        text-align: right;\n",
       "    }\n",
       "</style>\n",
       "<table border=\"1\" class=\"dataframe\">\n",
       "  <thead>\n",
       "    <tr style=\"text-align: right;\">\n",
       "      <th></th>\n",
       "      <th>question_id</th>\n",
       "      <th>tournament_id</th>\n",
       "      <th>team_id</th>\n",
       "      <th>member_id</th>\n",
       "      <th>team_pos</th>\n",
       "      <th>result</th>\n",
       "      <th>tour_ques_id</th>\n",
       "    </tr>\n",
       "  </thead>\n",
       "  <tbody>\n",
       "    <tr>\n",
       "      <th>0</th>\n",
       "      <td>0</td>\n",
       "      <td>6144</td>\n",
       "      <td>27254</td>\n",
       "      <td>27469</td>\n",
       "      <td>1.0</td>\n",
       "      <td>1</td>\n",
       "      <td>6144_0</td>\n",
       "    </tr>\n",
       "    <tr>\n",
       "      <th>1</th>\n",
       "      <td>0</td>\n",
       "      <td>6144</td>\n",
       "      <td>27254</td>\n",
       "      <td>57286</td>\n",
       "      <td>1.0</td>\n",
       "      <td>1</td>\n",
       "      <td>6144_0</td>\n",
       "    </tr>\n",
       "    <tr>\n",
       "      <th>2</th>\n",
       "      <td>0</td>\n",
       "      <td>6144</td>\n",
       "      <td>27254</td>\n",
       "      <td>155103</td>\n",
       "      <td>1.0</td>\n",
       "      <td>1</td>\n",
       "      <td>6144_0</td>\n",
       "    </tr>\n",
       "    <tr>\n",
       "      <th>3</th>\n",
       "      <td>0</td>\n",
       "      <td>6144</td>\n",
       "      <td>27254</td>\n",
       "      <td>41104</td>\n",
       "      <td>1.0</td>\n",
       "      <td>1</td>\n",
       "      <td>6144_0</td>\n",
       "    </tr>\n",
       "    <tr>\n",
       "      <th>4</th>\n",
       "      <td>0</td>\n",
       "      <td>6144</td>\n",
       "      <td>27254</td>\n",
       "      <td>57288</td>\n",
       "      <td>1.0</td>\n",
       "      <td>1</td>\n",
       "      <td>6144_0</td>\n",
       "    </tr>\n",
       "  </tbody>\n",
       "</table>\n",
       "</div>"
      ],
      "text/plain": [
       "   question_id  tournament_id  team_id  member_id  team_pos  result  \\\n",
       "0            0           6144    27254      27469       1.0       1   \n",
       "1            0           6144    27254      57286       1.0       1   \n",
       "2            0           6144    27254     155103       1.0       1   \n",
       "3            0           6144    27254      41104       1.0       1   \n",
       "4            0           6144    27254      57288       1.0       1   \n",
       "\n",
       "  tour_ques_id  \n",
       "0       6144_0  \n",
       "1       6144_0  \n",
       "2       6144_0  \n",
       "3       6144_0  \n",
       "4       6144_0  "
      ]
     },
     "execution_count": 12,
     "metadata": {},
     "output_type": "execute_result"
    }
   ],
   "source": [
    "df_train.head()"
   ]
  },
  {
   "cell_type": "markdown",
   "id": "assured-attitude",
   "metadata": {},
   "source": [
    "Постройте baseline-модель на основе линейной или логистической регрессии, которая будет обучать рейтинг-лист игроков. Замечания и подсказки:\n",
    "повопросные результаты — это фактически результаты броска монетки, и их предсказание скорее всего имеет отношение к бинарной классификации;\n",
    "в разных турнирах вопросы совсем разного уровня сложности, поэтому модель должна это учитывать; скорее всего, модель должна будет явно обучать не только силу каждого игрока, но и сложность каждого вопроса;\n",
    "для baseline-модели можно забыть о командах и считать, что повопросные результаты команды просто относятся к каждому из её игроков.\n"
   ]
  },
  {
   "cell_type": "code",
   "execution_count": 13,
   "id": "honest-settle",
   "metadata": {},
   "outputs": [],
   "source": [
    "def get_questions_complexity(df):\n",
    "    questions_count = df.tour_ques_id.value_counts()\n",
    "    questions_complex = {}\n",
    "    for row in df.groupby(by='tour_ques_id'):\n",
    "        quest_id = row[0]\n",
    "        questions_complex[quest_id] = 1 - row[1]['result'].sum() / questions_count[quest_id]\n",
    "    return questions_complex"
   ]
  },
  {
   "cell_type": "code",
   "execution_count": 14,
   "id": "engaged-consequence",
   "metadata": {},
   "outputs": [],
   "source": [
    "questions_comp_train = get_questions_complexity(df_train)\n",
    "questions_comp_test = get_questions_complexity(df_test)"
   ]
  },
  {
   "cell_type": "code",
   "execution_count": 15,
   "id": "comparable-cross",
   "metadata": {},
   "outputs": [
    {
     "data": {
      "text/plain": [
       "(22374, 5968)"
      ]
     },
     "execution_count": 15,
     "metadata": {},
     "output_type": "execute_result"
    }
   ],
   "source": [
    "len(questions_comp_train), len(questions_comp_test)"
   ]
  },
  {
   "cell_type": "code",
   "execution_count": 16,
   "id": "sexual-maximum",
   "metadata": {},
   "outputs": [],
   "source": [
    "df_train['complex'] = df_train['tour_ques_id'].apply(lambda x: questions_comp_train[x])\n",
    "df_test['complex'] = df_test['tour_ques_id'].apply(lambda x: questions_comp_test[x])"
   ]
  },
  {
   "cell_type": "code",
   "execution_count": 140,
   "id": "experienced-heading",
   "metadata": {},
   "outputs": [],
   "source": [
    "encoder = OneHotEncoder(handle_unknown='ignore')\n",
    "encoder.fit(df_train[['member_id', 'tour_ques_id']])\n",
    "X_train = encoder.transform(df_train[['member_id', 'tour_ques_id']])\n",
    "X_test = encoder.transform(df_test[['member_id', 'tour_ques_id']])\n",
    "y_train = df_train.result.values"
   ]
  },
  {
   "cell_type": "code",
   "execution_count": 181,
   "id": "distinct-hindu",
   "metadata": {},
   "outputs": [
    {
     "data": {
      "text/plain": [
       "LogisticRegression(n_jobs=-1)"
      ]
     },
     "execution_count": 181,
     "metadata": {},
     "output_type": "execute_result"
    }
   ],
   "source": [
    "model = LogisticRegression(n_jobs=-1)\n",
    "model.fit(X_train, y_train)"
   ]
  },
  {
   "cell_type": "code",
   "execution_count": 182,
   "id": "cloudy-radio",
   "metadata": {},
   "outputs": [],
   "source": [
    "predict_train = model.predict_proba(X_train)[:, 1]\n",
    "predict_test = model.predict_proba(X_test)[:, 1]"
   ]
  },
  {
   "cell_type": "markdown",
   "id": "automated-horror",
   "metadata": {},
   "source": [
    "Качество рейтинг-системы оценивается качеством предсказаний результатов турниров. Но сами повопросные результаты наши модели предсказывать вряд ли смогут, ведь неизвестно, насколько сложными окажутся вопросы в будущих турнирах; да и не нужны эти предсказания сами по себе. Поэтому:\n",
    "предложите способ предсказать результаты нового турнира с известными составами, но неизвестными вопросами, в виде ранжирования команд;\n",
    "в качестве метрики качества на тестовом наборе давайте считать ранговые корреляции Спирмена и Кендалла (их можно взять в пакете scipy) между реальным ранжированием в результатах турнира и предсказанным моделью, усреднённые по тестовому множеству турниров."
   ]
  },
  {
   "cell_type": "code",
   "execution_count": 143,
   "id": "latter-tongue",
   "metadata": {},
   "outputs": [],
   "source": [
    "df_test['neg_predict'] = 1 - predict_test"
   ]
  },
  {
   "cell_type": "code",
   "execution_count": 144,
   "id": "historic-california",
   "metadata": {},
   "outputs": [
    {
     "data": {
      "text/html": [
       "<div>\n",
       "<style scoped>\n",
       "    .dataframe tbody tr th:only-of-type {\n",
       "        vertical-align: middle;\n",
       "    }\n",
       "\n",
       "    .dataframe tbody tr th {\n",
       "        vertical-align: top;\n",
       "    }\n",
       "\n",
       "    .dataframe thead th {\n",
       "        text-align: right;\n",
       "    }\n",
       "</style>\n",
       "<table border=\"1\" class=\"dataframe\">\n",
       "  <thead>\n",
       "    <tr style=\"text-align: right;\">\n",
       "      <th></th>\n",
       "      <th>question_id</th>\n",
       "      <th>tournament_id</th>\n",
       "      <th>team_id</th>\n",
       "      <th>member_id</th>\n",
       "      <th>team_pos</th>\n",
       "      <th>result</th>\n",
       "      <th>tour_ques_id</th>\n",
       "      <th>complex</th>\n",
       "      <th>neg_predict</th>\n",
       "      <th>predict</th>\n",
       "    </tr>\n",
       "  </thead>\n",
       "  <tbody>\n",
       "    <tr>\n",
       "      <th>0</th>\n",
       "      <td>0</td>\n",
       "      <td>6160</td>\n",
       "      <td>54613</td>\n",
       "      <td>36568</td>\n",
       "      <td>1.0</td>\n",
       "      <td>1</td>\n",
       "      <td>6160_0</td>\n",
       "      <td>0.632911</td>\n",
       "      <td>0.309796</td>\n",
       "      <td>0.279892</td>\n",
       "    </tr>\n",
       "    <tr>\n",
       "      <th>1</th>\n",
       "      <td>0</td>\n",
       "      <td>6160</td>\n",
       "      <td>54613</td>\n",
       "      <td>117262</td>\n",
       "      <td>1.0</td>\n",
       "      <td>1</td>\n",
       "      <td>6160_0</td>\n",
       "      <td>0.632911</td>\n",
       "      <td>0.509811</td>\n",
       "      <td>0.228755</td>\n",
       "    </tr>\n",
       "    <tr>\n",
       "      <th>2</th>\n",
       "      <td>0</td>\n",
       "      <td>6160</td>\n",
       "      <td>54613</td>\n",
       "      <td>25475</td>\n",
       "      <td>1.0</td>\n",
       "      <td>1</td>\n",
       "      <td>6160_0</td>\n",
       "      <td>0.632911</td>\n",
       "      <td>0.341398</td>\n",
       "      <td>0.224340</td>\n",
       "    </tr>\n",
       "    <tr>\n",
       "      <th>3</th>\n",
       "      <td>0</td>\n",
       "      <td>6160</td>\n",
       "      <td>54613</td>\n",
       "      <td>140120</td>\n",
       "      <td>1.0</td>\n",
       "      <td>1</td>\n",
       "      <td>6160_0</td>\n",
       "      <td>0.632911</td>\n",
       "      <td>0.548137</td>\n",
       "      <td>0.160483</td>\n",
       "    </tr>\n",
       "    <tr>\n",
       "      <th>4</th>\n",
       "      <td>0</td>\n",
       "      <td>6160</td>\n",
       "      <td>54613</td>\n",
       "      <td>14347</td>\n",
       "      <td>1.0</td>\n",
       "      <td>1</td>\n",
       "      <td>6160_0</td>\n",
       "      <td>0.632911</td>\n",
       "      <td>0.383099</td>\n",
       "      <td>0.209076</td>\n",
       "    </tr>\n",
       "  </tbody>\n",
       "</table>\n",
       "</div>"
      ],
      "text/plain": [
       "   question_id  tournament_id  team_id  member_id  team_pos  result  \\\n",
       "0            0           6160    54613      36568       1.0       1   \n",
       "1            0           6160    54613     117262       1.0       1   \n",
       "2            0           6160    54613      25475       1.0       1   \n",
       "3            0           6160    54613     140120       1.0       1   \n",
       "4            0           6160    54613      14347       1.0       1   \n",
       "\n",
       "  tour_ques_id   complex  neg_predict   predict  \n",
       "0       6160_0  0.632911     0.309796  0.279892  \n",
       "1       6160_0  0.632911     0.509811  0.228755  \n",
       "2       6160_0  0.632911     0.341398  0.224340  \n",
       "3       6160_0  0.632911     0.548137  0.160483  \n",
       "4       6160_0  0.632911     0.383099  0.209076  "
      ]
     },
     "execution_count": 144,
     "metadata": {},
     "output_type": "execute_result"
    }
   ],
   "source": [
    "df_test.head()"
   ]
  },
  {
   "cell_type": "code",
   "execution_count": 145,
   "id": "incredible-broadway",
   "metadata": {},
   "outputs": [],
   "source": [
    "def compute_scores(df_test):\n",
    "    kendall = []\n",
    "    spearman = []\n",
    "    for tournament_id in test_ids:\n",
    "        tour_df = df_test[df_test['tournament_id']==tournament_id]\n",
    "        kendall.append(kendalltau(tour_df['neg_predict'], tour_df['team_pos'])[0])\n",
    "        spearman.append(spearmanr(tour_df['neg_predict'], tour_df['team_pos'])[0])\n",
    "    kendall = np.array(kendall)[~np.isnan(kendall)]\n",
    "    spearman = np.array(spearman)[~np.isnan(spearman)]\n",
    "    return np.mean(kendall), np.mean(spearman)"
   ]
  },
  {
   "cell_type": "code",
   "execution_count": 146,
   "id": "weird-adams",
   "metadata": {},
   "outputs": [
    {
     "name": "stdout",
     "output_type": "stream",
     "text": [
      "Kendall: 0.511707310365948 spearman: 0.6706454769681249\n"
     ]
    }
   ],
   "source": [
    "best_kendall, best_spearman = compute_scores(df_test)\n",
    "best_model = model\n",
    "print(f'Kendall: {best_kendall} spearman: {best_spearman}')"
   ]
  },
  {
   "cell_type": "markdown",
   "id": "portuguese-bandwidth",
   "metadata": {},
   "source": [
    "Теперь главное: ЧГК — это всё-таки командная игра. Поэтому:\n",
    "предложите способ учитывать то, что на вопрос отвечают сразу несколько игроков; скорее всего, понадобятся скрытые переменные; не стесняйтесь делать упрощающие предположения, но теперь переменные “игрок X ответил на вопрос Y” при условии данных должны стать зависимыми для игроков одной и той же команды;\n",
    "разработайте EM-схему для обучения этой модели, реализуйте её в коде;\n",
    "обучите несколько итераций, убедитесь, что целевые метрики со временем растут (скорее всего, ненамного, но расти должны), выберите лучшую модель, используя целевые метрики.\n"
   ]
  },
  {
   "cell_type": "code",
   "execution_count": 147,
   "id": "guilty-stereo",
   "metadata": {},
   "outputs": [
    {
     "name": "stdout",
     "output_type": "stream",
     "text": [
      "Step: 1 Kendall: 0.5316876999145242 spearman: 0.6907979084557259\n",
      "Step: 2 Kendall: 0.5184091395306106 spearman: 0.6736052235941389\n",
      "Step: 3 Kendall: 0.4997577311158762 spearman: 0.6526956485324784\n",
      "Step: 4 Kendall: 0.48899811723252795 spearman: 0.6398377761912305\n",
      "Step: 5 Kendall: 0.4695304867620617 spearman: 0.6176975414748395\n"
     ]
    }
   ],
   "source": [
    "for step in range(1, 6):\n",
    "    df_train['predict'] = predict_train\n",
    "    df_train['neg_predict'] = 1 - predict_train\n",
    "    predicts_by_teams = df_train.groupby(['tournament_id', 'team_id', 'tour_ques_id']).agg('prod').reset_index()\n",
    "    predicts_by_teams['team_predict'] = 1 - predicts_by_teams['neg_predict']\n",
    "    \n",
    "    predicts_by_teams = pd.merge(df_train, predicts_by_teams.drop(columns=['neg_predict', 'predict']), on=['tournament_id', 'team_id', 'tour_ques_id'])\n",
    "    z = predicts_by_teams['predict'] / predicts_by_teams['team_predict']\n",
    "    z = np.where(y_train == 0, 0, z)\n",
    "  \n",
    "    model = LinearRegression(n_jobs=-1)\n",
    "    model.fit(X_train, z)\n",
    "    predict_train = model.predict(X_train)\n",
    "    predict_test = model.predict(X_test)\n",
    "  \n",
    "    df_test['predict'] = predict_test    \n",
    "    df_test['neg_predict'] = 1 - predict_test\n",
    "    predicts_by_teams = df_test.groupby(['tournament_id', 'team_id', 'tour_ques_id']).agg('prod').reset_index()\n",
    "    predicts_by_teams['team_predict'] = 1 - predicts_by_teams['neg_predict']\n",
    "    \n",
    "    predicts_by_teams = pd.merge(df_test, predicts_by_teams.drop(columns=['neg_predict', 'predict', 'team_pos']), on=['tournament_id', 'team_id', 'tour_ques_id'])\n",
    "    kendall, spearman = compute_scores(predicts_by_teams)\n",
    "    if best_kendall < kendall and best_spearman < spearman:\n",
    "        best_kendall = kendall\n",
    "        best_spearman = spearman\n",
    "        best_model = model\n",
    "    print(f'Step: {step} Kendall: {kendall} spearman: {spearman}')"
   ]
  },
  {
   "cell_type": "markdown",
   "id": "eight-intranet",
   "metadata": {},
   "source": [
    "А что там с вопросами? Постройте “рейтинг-лист” турниров по сложности вопросов. Соответствует ли он интуиции (например, на чемпионате мира в целом должны быть сложные вопросы, а на турнирах для школьников — простые)? Если будет интересно: постройте топ сложных и простых вопросов со ссылками на конкретные записи в базе вопросов ЧГК (это чисто техническое дело, тут никакого ML нету)."
   ]
  },
  {
   "cell_type": "code",
   "execution_count": 200,
   "id": "unable-treaty",
   "metadata": {},
   "outputs": [],
   "source": [
    "questions_weight = best_model.coef_[df_train.member_id.nunique():]"
   ]
  },
  {
   "cell_type": "code",
   "execution_count": 219,
   "id": "antique-litigation",
   "metadata": {},
   "outputs": [],
   "source": [
    "tour_compl = defaultdict(list)\n",
    "\n",
    "for question_weight, question_id in zip(questions_weight, df_train.tour_ques_id.unique()):\n",
    "    tour_compl[int(question_id.split('_')[0])].append(question_weight)"
   ]
  },
  {
   "cell_type": "code",
   "execution_count": 220,
   "id": "native-piece",
   "metadata": {},
   "outputs": [],
   "source": [
    "for tournament_id, questions_weights in tour_compl.items():\n",
    "    tour_compl[tournament_id] = np.mean(questions_weights)"
   ]
  },
  {
   "cell_type": "code",
   "execution_count": 221,
   "id": "clean-nightlife",
   "metadata": {},
   "outputs": [],
   "source": [
    "tour_compl = sorted([(key, (val)) for key, val in tour_compl.items()], key=lambda x: x[1])"
   ]
  },
  {
   "cell_type": "code",
   "execution_count": 222,
   "id": "grateful-outside",
   "metadata": {},
   "outputs": [
    {
     "name": "stdout",
     "output_type": "stream",
     "text": [
      "Турниры с самыми сложными вопросами:\n",
      "5908. Лига Сибири. III тур.\n",
      "5907. Осенняя кинолига\n",
      "5109. Серия Гран-при. 6 этап. Гран-при Восточной Европы\n",
      "6063. ВДИ - С Новым Годом!\n",
      "5779. Intermezzo\n",
      "5929. Мемориал памяти Михаила Басса\n",
      "5568. Голова профессора Доуэля\n",
      "5934. Кубок Слегка НеСредиземья\n",
      "5407. Девятый круг\n",
      "5924. Кубок Оливье\n"
     ]
    }
   ],
   "source": [
    "print('Турниры с самыми сложными вопросами:')\n",
    "for idx in tour_compl[:10]:\n",
    "    print(f\"{idx[0]}. {tournaments[idx[0]]['name']}\")"
   ]
  },
  {
   "cell_type": "code",
   "execution_count": 223,
   "id": "liked-oasis",
   "metadata": {},
   "outputs": [
    {
     "name": "stdout",
     "output_type": "stream",
     "text": [
      "Турниры с самыми простыми вопросами:\n",
      "5948. Чемпионат Мира. Финал. Группа А\n",
      "5685. Боровские соборы\n",
      "5687. Кубок соседней галактики. Эпсилон\n",
      "5985. Українська ліга. Етап 1\n",
      "6173. Кубок Мэра Казани\n",
      "5274. Умами\n",
      "5686. Хороший, плохой, синхрон\n",
      "5680. Зеркало Ревельской весны\n",
      "6161. Студенческий чемпионат Тюменской области\n",
      "6183. Асинхрон турнира \"Год театра\"\n"
     ]
    }
   ],
   "source": [
    "print('Турниры с самыми простыми вопросами:')\n",
    "for idx in tour_compl[-10:]:\n",
    "    print(f\"{idx[0]}. {tournaments[idx[0]]['name']}\")"
   ]
  },
  {
   "cell_type": "code",
   "execution_count": null,
   "id": "dominant-iceland",
   "metadata": {},
   "outputs": [],
   "source": []
  }
 ],
 "metadata": {
  "kernelspec": {
   "display_name": "Python 3",
   "language": "python",
   "name": "python3"
  },
  "language_info": {
   "codemirror_mode": {
    "name": "ipython",
    "version": 3
   },
   "file_extension": ".py",
   "mimetype": "text/x-python",
   "name": "python",
   "nbconvert_exporter": "python",
   "pygments_lexer": "ipython3",
   "version": "3.8.3"
  }
 },
 "nbformat": 4,
 "nbformat_minor": 5
}
